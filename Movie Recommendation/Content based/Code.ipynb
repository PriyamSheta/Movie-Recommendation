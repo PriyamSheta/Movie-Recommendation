{
 "cells": [
  {
   "cell_type": "code",
   "execution_count": 1,
   "metadata": {},
   "outputs": [],
   "source": [
    "import pandas as pd\n",
    "import numpy as np"
   ]
  },
  {
   "cell_type": "code",
   "execution_count": 2,
   "metadata": {},
   "outputs": [],
   "source": [
    "movies=pd.read_csv('movies.csv')"
   ]
  },
  {
   "cell_type": "code",
   "execution_count": 3,
   "metadata": {},
   "outputs": [
    {
     "data": {
      "text/html": [
       "<div>\n",
       "<style scoped>\n",
       "    .dataframe tbody tr th:only-of-type {\n",
       "        vertical-align: middle;\n",
       "    }\n",
       "\n",
       "    .dataframe tbody tr th {\n",
       "        vertical-align: top;\n",
       "    }\n",
       "\n",
       "    .dataframe thead th {\n",
       "        text-align: right;\n",
       "    }\n",
       "</style>\n",
       "<table border=\"1\" class=\"dataframe\">\n",
       "  <thead>\n",
       "    <tr style=\"text-align: right;\">\n",
       "      <th></th>\n",
       "      <th>movieId</th>\n",
       "      <th>title</th>\n",
       "      <th>genres</th>\n",
       "    </tr>\n",
       "  </thead>\n",
       "  <tbody>\n",
       "    <tr>\n",
       "      <th>0</th>\n",
       "      <td>1</td>\n",
       "      <td>Toy Story (1995)</td>\n",
       "      <td>Adventure|Animation|Children|Comedy|Fantasy</td>\n",
       "    </tr>\n",
       "    <tr>\n",
       "      <th>1</th>\n",
       "      <td>2</td>\n",
       "      <td>Jumanji (1995)</td>\n",
       "      <td>Adventure|Children|Fantasy</td>\n",
       "    </tr>\n",
       "    <tr>\n",
       "      <th>2</th>\n",
       "      <td>3</td>\n",
       "      <td>Grumpier Old Men (1995)</td>\n",
       "      <td>Comedy|Romance</td>\n",
       "    </tr>\n",
       "    <tr>\n",
       "      <th>3</th>\n",
       "      <td>4</td>\n",
       "      <td>Waiting to Exhale (1995)</td>\n",
       "      <td>Comedy|Drama|Romance</td>\n",
       "    </tr>\n",
       "    <tr>\n",
       "      <th>4</th>\n",
       "      <td>5</td>\n",
       "      <td>Father of the Bride Part II (1995)</td>\n",
       "      <td>Comedy</td>\n",
       "    </tr>\n",
       "  </tbody>\n",
       "</table>\n",
       "</div>"
      ],
      "text/plain": [
       "   movieId                               title  \\\n",
       "0        1                    Toy Story (1995)   \n",
       "1        2                      Jumanji (1995)   \n",
       "2        3             Grumpier Old Men (1995)   \n",
       "3        4            Waiting to Exhale (1995)   \n",
       "4        5  Father of the Bride Part II (1995)   \n",
       "\n",
       "                                        genres  \n",
       "0  Adventure|Animation|Children|Comedy|Fantasy  \n",
       "1                   Adventure|Children|Fantasy  \n",
       "2                               Comedy|Romance  \n",
       "3                         Comedy|Drama|Romance  \n",
       "4                                       Comedy  "
      ]
     },
     "execution_count": 3,
     "metadata": {},
     "output_type": "execute_result"
    }
   ],
   "source": [
    "movies.head()"
   ]
  },
  {
   "cell_type": "code",
   "execution_count": 4,
   "metadata": {},
   "outputs": [],
   "source": [
    "from sklearn.feature_extraction.text import TfidfVectorizer"
   ]
  },
  {
   "cell_type": "code",
   "execution_count": 5,
   "metadata": {},
   "outputs": [],
   "source": [
    "tfv=TfidfVectorizer(stop_words='english')"
   ]
  },
  {
   "cell_type": "code",
   "execution_count": 6,
   "metadata": {},
   "outputs": [],
   "source": [
    "movies['genres']=movies['genres'].fillna('')"
   ]
  },
  {
   "cell_type": "code",
   "execution_count": 7,
   "metadata": {},
   "outputs": [],
   "source": [
    "matrix=tfv.fit_transform(movies['genres'])"
   ]
  },
  {
   "cell_type": "code",
   "execution_count": 8,
   "metadata": {},
   "outputs": [],
   "source": [
    "from sklearn.metrics.pairwise import sigmoid_kernel\n",
    "\n",
    "# Compute sigmoid kernel\n",
    "sig=sigmoid_kernel(matrix,matrix)    # This will create a matrix of n*n (n=no, of movies) where information will be stored\n",
    "                                     # that each genres is how much related to other genres"
   ]
  },
  {
   "cell_type": "code",
   "execution_count": 16,
   "metadata": {},
   "outputs": [
    {
     "data": {
      "text/plain": [
       "(9742,)"
      ]
     },
     "execution_count": 16,
     "metadata": {},
     "output_type": "execute_result"
    }
   ],
   "source": [
    "sig[0].shape # 9742 movies"
   ]
  },
  {
   "cell_type": "code",
   "execution_count": 13,
   "metadata": {},
   "outputs": [],
   "source": [
    "indices=pd.Series(movies.index,index=movies['title']).drop_duplicates()"
   ]
  },
  {
   "cell_type": "code",
   "execution_count": 14,
   "metadata": {},
   "outputs": [
    {
     "data": {
      "text/plain": [
       "title\n",
       "Toy Story (1995)                                                      0\n",
       "Jumanji (1995)                                                        1\n",
       "Grumpier Old Men (1995)                                               2\n",
       "Waiting to Exhale (1995)                                              3\n",
       "Father of the Bride Part II (1995)                                    4\n",
       "Heat (1995)                                                           5\n",
       "Sabrina (1995)                                                        6\n",
       "Tom and Huck (1995)                                                   7\n",
       "Sudden Death (1995)                                                   8\n",
       "GoldenEye (1995)                                                      9\n",
       "American President, The (1995)                                       10\n",
       "Dracula: Dead and Loving It (1995)                                   11\n",
       "Balto (1995)                                                         12\n",
       "Nixon (1995)                                                         13\n",
       "Cutthroat Island (1995)                                              14\n",
       "Casino (1995)                                                        15\n",
       "Sense and Sensibility (1995)                                         16\n",
       "Four Rooms (1995)                                                    17\n",
       "Ace Ventura: When Nature Calls (1995)                                18\n",
       "Money Train (1995)                                                   19\n",
       "Get Shorty (1995)                                                    20\n",
       "Copycat (1995)                                                       21\n",
       "Assassins (1995)                                                     22\n",
       "Powder (1995)                                                        23\n",
       "Leaving Las Vegas (1995)                                             24\n",
       "Othello (1995)                                                       25\n",
       "Now and Then (1995)                                                  26\n",
       "Persuasion (1995)                                                    27\n",
       "City of Lost Children, The (Cité des enfants perdus, La) (1995)      28\n",
       "Shanghai Triad (Yao a yao yao dao waipo qiao) (1995)                 29\n",
       "                                                                   ... \n",
       "Sorry to Bother You (2018)                                         9712\n",
       "Ant-Man and the Wasp (2018)                                        9713\n",
       "Dogman (2018)                                                      9714\n",
       "Mamma Mia: Here We Go Again! (2018)                                9715\n",
       "Tag (2018)                                                         9716\n",
       "The Man Who Killed Don Quixote (2018)                              9717\n",
       "Boundaries (2018)                                                  9718\n",
       "Spiral (2018)                                                      9719\n",
       "Mission: Impossible - Fallout (2018)                               9720\n",
       "SuperFly (2018)                                                    9721\n",
       "Iron Soldier (2010)                                                9722\n",
       "BlacKkKlansman (2018)                                              9723\n",
       "The Darkest Minds (2018)                                           9724\n",
       "Tilt (2011)                                                        9725\n",
       "Jeff Ross Roasts the Border (2017)                                 9726\n",
       "John From (2015)                                                   9727\n",
       "Liquid Truth (2017)                                                9728\n",
       "Bunny (1998)                                                       9729\n",
       "Hommage à Zgougou (et salut à Sabine Mamou) (2002)                 9730\n",
       "Gintama (2017)                                                     9731\n",
       "Gintama: The Movie (2010)                                          9732\n",
       "anohana: The Flower We Saw That Day - The Movie (2013)             9733\n",
       "Silver Spoon (2014)                                                9734\n",
       "Love Live! The School Idol Movie (2015)                            9735\n",
       "Jon Stewart Has Left the Building (2015)                           9736\n",
       "Black Butler: Book of the Atlantic (2017)                          9737\n",
       "No Game No Life: Zero (2017)                                       9738\n",
       "Flint (2017)                                                       9739\n",
       "Bungo Stray Dogs: Dead Apple (2018)                                9740\n",
       "Andrew Dice Clay: Dice Rules (1991)                                9741\n",
       "Length: 9742, dtype: int64"
      ]
     },
     "execution_count": 14,
     "metadata": {},
     "output_type": "execute_result"
    }
   ],
   "source": [
    "indices"
   ]
  },
  {
   "cell_type": "code",
   "execution_count": 17,
   "metadata": {},
   "outputs": [],
   "source": [
    "def give_recommendation(title,sig=sig):\n",
    "    # Get the index of the title\n",
    "    idx=indices[title]\n",
    "    \n",
    "    # Get the pairwise similarity scores\n",
    "    sig_scores=list(enumerate(sig[idx]))\n",
    "    \n",
    "    #Sort the movies on basis of score\n",
    "    sig_scores=sorted(sig_scores , key=lambda x:x[1], reverse=True)\n",
    "    \n",
    "    #Scores of 10 most similar movies\n",
    "    sig_scores=sig_scores[1:11]\n",
    "    \n",
    "    #movie indices\n",
    "    movie_indices=[i[0] for i in sig_scores]\n",
    "    \n",
    "    return movies['title'].iloc[movie_indices]"
   ]
  },
  {
   "cell_type": "code",
   "execution_count": 24,
   "metadata": {},
   "outputs": [
    {
     "data": {
      "text/plain": [
       "1549    101 Dalmatians (One Hundred and One Dalmatians...\n",
       "1552                      Rescuers Down Under, The (1990)\n",
       "2182                            Gulliver's Travels (1939)\n",
       "2694                                      Dinosaur (2000)\n",
       "2941                            Digimon: The Movie (2000)\n",
       "3704                          Return to Never Land (2002)\n",
       "4626                                  Brother Bear (2003)\n",
       "7691    Phineas and Ferb the Movie: Across the 2nd Dim...\n",
       "7910        Pocahontas II: Journey to a New World (1998) \n",
       "8605                  Ice Age: A Mammoth Christmas (2011)\n",
       "Name: title, dtype: object"
      ]
     },
     "execution_count": 24,
     "metadata": {},
     "output_type": "execute_result"
    }
   ],
   "source": [
    "give_recommendation('Balto (1995)')"
   ]
  }
 ],
 "metadata": {
  "kernelspec": {
   "display_name": "Python 3",
   "language": "python",
   "name": "python3"
  },
  "language_info": {
   "codemirror_mode": {
    "name": "ipython",
    "version": 3
   },
   "file_extension": ".py",
   "mimetype": "text/x-python",
   "name": "python",
   "nbconvert_exporter": "python",
   "pygments_lexer": "ipython3",
   "version": "3.6.4"
  }
 },
 "nbformat": 4,
 "nbformat_minor": 2
}
